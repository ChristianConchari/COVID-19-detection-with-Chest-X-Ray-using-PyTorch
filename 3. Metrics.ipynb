{
 "cells": [
  {
   "cell_type": "markdown",
   "source": [
    "# Metrics\n",
    "\n",
    "## Model and Data preparation"
   ],
   "metadata": {
    "collapsed": false
   }
  },
  {
   "cell_type": "code",
   "execution_count": 33,
   "metadata": {
    "collapsed": true
   },
   "outputs": [
    {
     "name": "stdout",
     "output_type": "stream",
     "text": [
      "Using PyTorch version 1.8.1+cpu\n"
     ]
    }
   ],
   "source": [
    "#LIBRARIES\n",
    "import torch\n",
    "import matplotlib.pyplot as plt\n",
    "import numpy as np\n",
    "import os\n",
    "import shutil\n",
    "import random\n",
    "from PIL import Image\n",
    "import torchvision\n",
    "import torch.nn.functional as F\n",
    "import cv2\n",
    "import seaborn as sns\n",
    "from torchmetrics import ConfusionMatrix\n",
    "from utils import deprocess_image\n",
    "from grad_cam import GradCAM\n",
    "import networks\n",
    "torch.manual_seed(0)\n",
    "\n",
    "print('Using PyTorch version', torch.__version__)"
   ]
  },
  {
   "cell_type": "code",
   "execution_count": 2,
   "outputs": [
    {
     "name": "stdout",
     "output_type": "stream",
     "text": [
      "Found 10162 normal examples\n",
      "Found 1315 viral_pneumonia examples\n",
      "Found 3586 covid examples\n",
      "Found 5982 lung_opacity examples\n",
      "Found 30 normal examples\n",
      "Found 30 viral_pneumonia examples\n",
      "Found 30 covid examples\n",
      "Found 30 lung_opacity examples\n"
     ]
    }
   ],
   "source": [
    "#VARIABLES\n",
    "\n",
    "class_names = ['normal', 'viral_pneumonia', 'covid', 'lung_opacity']\n",
    "root_dir = 'COVID-19_Radiography_Dataset'\n",
    "source_dirs = ['Normal', 'Viral Pneumonia', 'COVID', 'Lung_Opacity']\n",
    "\n",
    "if os.path.isdir(os.path.join(root_dir, source_dirs[1])):\n",
    "    os.mkdir(os.path.join(root_dir, 'test'))\n",
    "\n",
    "    for i, d in enumerate(source_dirs):\n",
    "        os.rename(os.path.join(root_dir, d), os.path.join(root_dir, class_names[i]))\n",
    "\n",
    "    for c in class_names:\n",
    "        os.mkdir(os.path.join(root_dir, 'test', c))\n",
    "\n",
    "    for c in class_names:\n",
    "        images = [x for x in os.listdir(os.path.join(root_dir, c)) if x.lower().endswith('png')]\n",
    "        selected_images = random.sample(images, 30)\n",
    "        for image in selected_images:\n",
    "            source_path = os.path.join(root_dir, c, image)\n",
    "            target_path = os.path.join(root_dir, 'test', c, image)\n",
    "            shutil.move(source_path, target_path)\n",
    "\n",
    "\n",
    "class ChestXRayDataset(torch.utils.data.Dataset):\n",
    "    def __init__(self, image_dirs, transform):\n",
    "        def get_images(class_name):\n",
    "            images = [x for x in os.listdir(image_dirs[class_name]) if x[-3:].lower().endswith('png')]\n",
    "            print(f'Found {len(images)} {class_name} examples')\n",
    "            return images\n",
    "\n",
    "        self.images = {}\n",
    "        self.class_names =  ['normal', 'viral_pneumonia', 'covid', 'lung_opacity']\n",
    "\n",
    "        for class_name in self.class_names:\n",
    "            self.images[class_name] = get_images(class_name)\n",
    "\n",
    "        self.image_dirs = image_dirs\n",
    "        self.transform = transform\n",
    "\n",
    "\n",
    "    def __len__(self):\n",
    "        return sum([len(self.images[class_name]) for class_name in self.class_names])\n",
    "\n",
    "\n",
    "    def __getitem__(self, index):\n",
    "        class_name = random.choice(self.class_names)\n",
    "        index = index % len(self.images[class_name])\n",
    "        image_name = self.images[class_name][index]\n",
    "        image_path = os.path.join(self.image_dirs[class_name], image_name)\n",
    "        image = Image.open(image_path).convert('RGB')\n",
    "        return self.transform(image), self.class_names.index(class_name)\n",
    "\n",
    "train_transform = torchvision.transforms.Compose([\n",
    "    torchvision.transforms.Resize(size=(224, 224)),\n",
    "    torchvision.transforms.RandomHorizontalFlip(),\n",
    "    torchvision.transforms.ToTensor(),\n",
    "    torchvision.transforms.Normalize(mean=[0.485, 0.456, 0.406], std=[0.229, 0.224, 0.225])\n",
    "])\n",
    "test_transform = torchvision.transforms.Compose([\n",
    "    torchvision.transforms.Resize(size=(224, 224)),\n",
    "    torchvision.transforms.ToTensor(),\n",
    "    torchvision.transforms.Normalize([0.485, 0.456, 0.406], [0.229, 0.224, 0.225])\n",
    "])\n",
    "\n",
    "train_dirs = {\n",
    "    'normal': 'COVID-19_Radiography_Dataset/normal',\n",
    "    'viral_pneumonia': 'COVID-19_Radiography_Dataset/viral_pneumonia',\n",
    "    'covid': 'COVID-19_Radiography_Dataset/covid',\n",
    "    'lung_opacity': 'COVID-19_Radiography_Dataset/lung_opacity'\n",
    "}\n",
    "train_dataset = ChestXRayDataset(train_dirs, train_transform)\n",
    "test_dirs = {\n",
    "    'normal': 'COVID-19_Radiography_Dataset/test/normal',\n",
    "    'viral_pneumonia': 'COVID-19_Radiography_Dataset/test/viral_pneumonia',\n",
    "    'covid': 'COVID-19_Radiography_Dataset/test/covid',\n",
    "    'lung_opacity': 'COVID-19_Radiography_Dataset/test/lung_opacity'\n",
    "}\n",
    "test_dataset = ChestXRayDataset(test_dirs, test_transform)\n",
    "\n",
    "batch_size = 6\n",
    "\n",
    "dl_train = torch.utils.data.DataLoader(train_dataset, batch_size=batch_size, shuffle=True)\n",
    "dl_test = torch.utils.data.DataLoader(test_dataset, batch_size=batch_size, shuffle=True)"
   ],
   "metadata": {
    "collapsed": false,
    "pycharm": {
     "name": "#%%\n"
    }
   }
  },
  {
   "cell_type": "code",
   "execution_count": 3,
   "outputs": [
    {
     "name": "stderr",
     "output_type": "stream",
     "text": [
      "c:\\users\\desktop\\appdata\\local\\programs\\python\\python37\\lib\\site-packages\\torch\\serialization.py:589: UserWarning: 'torch.load' received a zip file that looks like a TorchScript archive dispatching to 'torch.jit.load' (call 'torch.jit.load' directly to silence this warning)\n",
      "  \" silence this warning)\", UserWarning)\n"
     ]
    }
   ],
   "source": [
    "#MODEL\n",
    "model = torch.load('covid_model.pt')"
   ],
   "metadata": {
    "collapsed": false,
    "pycharm": {
     "name": "#%%\n"
    }
   }
  },
  {
   "cell_type": "markdown",
   "source": [
    "## Data extraction"
   ],
   "metadata": {
    "collapsed": false
   }
  },
  {
   "cell_type": "code",
   "execution_count": 4,
   "outputs": [],
   "source": [
    "classes =('Normal','Lung Opacity','Pneumonia','COVID-19')\n",
    "test_pred_labels = []\n",
    "test_true_labels = []\n",
    "train_pred_labels = []\n",
    "train_true_labels = []\n",
    "ps_list = []\n",
    "ps_list_train = []\n",
    "running_correct = 0.0\n",
    "running_total = 0.0\n",
    "running_correct_train = 0.0\n",
    "running_total_train = 0.0\n",
    "accuracy_test=0.0\n",
    "accuracy_train=0.0\n",
    "\n",
    "def data_extraction(pred_label,true_label,ps_label,dataset,correct,total,accuracy):\n",
    "    with torch.no_grad():\n",
    "        for images, labels in dataset:\n",
    "            model.eval()\n",
    "            output = model(images)\n",
    "            ps = F.softmax(output, dim=1)\n",
    "            output = (torch.max(torch.exp(output), 1)[1]).numpy()\n",
    "            pred_label.extend(output)\n",
    "            labels = labels.numpy()\n",
    "            true_label.extend(labels)\n",
    "            #ps = ps.data.cpu().numpy().squeeze()\n",
    "            #ps_label.extend(np.max(ps))\n",
    "            total += len(labels)\n",
    "            correct += (output == labels).sum().item()\n",
    "        accuracy = correct/total\n",
    "        return pred_label,true_label,ps_label,dataset,correct,total,accuracy"
   ],
   "metadata": {
    "collapsed": false,
    "pycharm": {
     "name": "#%%\n"
    }
   }
  },
  {
   "cell_type": "code",
   "execution_count": 11,
   "outputs": [
    {
     "name": "stdout",
     "output_type": "stream",
     "text": [
      "tensor([[36.,  6.,  0.,  6.],\n",
      "        [ 0., 60.,  0.,  0.],\n",
      "        [ 8.,  0., 43., 17.],\n",
      "        [ 0.,  0.,  1., 63.]])\n"
     ]
    }
   ],
   "source": [
    "one=data_extraction(test_pred_labels,test_true_labels,ps_list,dl_test,running_correct,running_total,accuracy_test)\n",
    "\n",
    "target_test = torch.tensor(one[1])\n",
    "preds_test = torch.tensor(one[0])\n",
    "confmat = ConfusionMatrix(num_classes=4)\n",
    "mat_tensor = confmat(preds_test, target_test)\n",
    "print(mat_tensor)"
   ],
   "metadata": {
    "collapsed": false,
    "pycharm": {
     "name": "#%%\n"
    }
   }
  },
  {
   "cell_type": "code",
   "execution_count": 7,
   "outputs": [
    {
     "name": "stdout",
     "output_type": "stream",
     "text": [
      "tensor([[3.8870e+03, 4.6600e+02, 3.8000e+01, 8.7900e+02],\n",
      "        [0.0000e+00, 5.1740e+03, 7.0000e+00, 1.0000e+01],\n",
      "        [2.6300e+02, 5.2000e+01, 4.1940e+03, 7.8400e+02],\n",
      "        [3.1000e+02, 5.0000e+00, 2.2000e+01, 4.9540e+03]])\n"
     ]
    }
   ],
   "source": [
    "two=data_extraction(train_pred_labels,train_true_labels,ps_list_train,dl_train,running_correct_train,running_total_train,accuracy_train)\n",
    "\n",
    "target_train = torch.tensor(two[1])\n",
    "preds_train = torch.tensor(two[0])\n",
    "confmat2 = ConfusionMatrix(num_classes=4)\n",
    "mat_tensor2 = confmat2(preds_train, target_train)\n",
    "\n",
    "print(mat_tensor2)"
   ],
   "metadata": {
    "collapsed": false,
    "pycharm": {
     "name": "#%%\n"
    }
   }
  },
  {
   "cell_type": "markdown",
   "source": [
    "## Accuracy for test data"
   ],
   "metadata": {
    "collapsed": false
   }
  },
  {
   "cell_type": "code",
   "execution_count": 12,
   "outputs": [
    {
     "name": "stdout",
     "output_type": "stream",
     "text": [
      "Total Correct Images: 103, Total Test Images: 120\n",
      "Test Accuracy:  0.8583333333333333\n"
     ]
    }
   ],
   "source": [
    "print(\"Total Correct Images: {}, Total Test Images: {}\".format(int(one[4]), int(one[5])))\n",
    "print(\"Test Accuracy: \", one[6])"
   ],
   "metadata": {
    "collapsed": false,
    "pycharm": {
     "name": "#%%\n"
    }
   }
  },
  {
   "cell_type": "markdown",
   "source": [
    "## Confussion Matrix"
   ],
   "metadata": {
    "collapsed": false
   }
  },
  {
   "cell_type": "code",
   "execution_count": 13,
   "outputs": [],
   "source": [
    "def confutio(mat_tensor,name):\n",
    "    conf_mat = mat_tensor.numpy()\n",
    "    group_names = ['True Pos Normal','False Neg','False Neg','False Neg',\n",
    "                   'False Neg','True Pos Lung','False Neg','False Neg',\n",
    "                   'False Neg','False Neg','True Pos Pneumonia','False Neg',\n",
    "                   'False Neg','False Neg','False Neg','True Pos COVID']\n",
    "    group_counts = [\"{0:0.0f}\".format(value) for value in\n",
    "                    conf_mat.flatten()]\n",
    "    group_percentages = [\"{0:.2%}\".format(value) for value in\n",
    "                         conf_mat.flatten()/np.sum(conf_mat)]\n",
    "    labels = [f\"{v1}\\n{v2}\\n{v3}\" for v1, v2, v3 in\n",
    "              zip(group_names,group_counts,group_percentages)]\n",
    "    labels = np.asarray(labels).reshape(4,4)\n",
    "    fig, ax = plt.subplots(figsize=(10,10))\n",
    "    ax=sns.heatmap(conf_mat, annot=labels, fmt='',ax=ax)\n",
    "    ax.set_title(label=name+' Confussion Matrix')\n",
    "    ax.plot\n",
    "    fig.savefig(name+'_confussion.png')"
   ],
   "metadata": {
    "collapsed": false,
    "pycharm": {
     "name": "#%%\n"
    }
   }
  },
  {
   "cell_type": "markdown",
   "source": [
    "### Confussion Matrix Test"
   ],
   "metadata": {
    "collapsed": false
   }
  },
  {
   "cell_type": "code",
   "execution_count": 14,
   "outputs": [
    {
     "data": {
      "text/plain": "<Figure size 720x720 with 2 Axes>",
      "image/png": "[encoded data removed]"
     },
     "metadata": {
      "needs_background": "light"
     },
     "output_type": "display_data"
    }
   ],
   "source": [
    "confutio(mat_tensor,'Test')"
   ],
   "metadata": {
    "collapsed": false,
    "pycharm": {
     "name": "#%%\n"
    }
   }
  },
  {
   "cell_type": "markdown",
   "source": [
    "### Confussion Matrix Train"
   ],
   "metadata": {
    "collapsed": false
   }
  },
  {
   "cell_type": "code",
   "execution_count": 15,
   "outputs": [
    {
     "data": {
      "text/plain": "<Figure size 720x720 with 2 Axes>",
      "image/png": "[encoded data removed]"
     },
     "metadata": {
      "needs_background": "light"
     },
     "output_type": "display_data"
    }
   ],
   "source": [
    "confutio(mat_tensor2,'Train')"
   ],
   "metadata": {
    "collapsed": false,
    "pycharm": {
     "name": "#%%\n"
    }
   }
  },
  {
   "cell_type": "markdown",
   "source": [
    "## Precision, Recall, F1 Score & Support"
   ],
   "metadata": {
    "collapsed": false
   }
  },
  {
   "cell_type": "code",
   "execution_count": 16,
   "outputs": [
    {
     "name": "stdout",
     "output_type": "stream",
     "text": [
      "Classification report for test set:\n",
      "              precision    recall  f1-score   support\n",
      "\n",
      "      Normal       0.82      0.75      0.78        48\n",
      "Lung opacity       0.91      1.00      0.95        60\n",
      "   Pneumonia       0.98      0.63      0.77        68\n",
      "    COVID-19       0.73      0.98      0.84        64\n",
      "\n",
      "    accuracy                           0.84       240\n",
      "   macro avg       0.86      0.84      0.84       240\n",
      "weighted avg       0.86      0.84      0.84       240\n",
      "\n",
      "\n"
     ]
    }
   ],
   "source": [
    "import sklearn.metrics as metrics\n",
    "print(\"Classification report for test set:\\n%s\\n\"\n",
    "      % (metrics.classification_report(one[1], one[0],target_names=[\"Normal\",\"Lung opacity\",\"Pneumonia\",\"COVID-19\"])))"
   ],
   "metadata": {
    "collapsed": false,
    "pycharm": {
     "name": "#%%\n"
    }
   }
  },
  {
   "cell_type": "markdown",
   "source": [
    "## GradCAM"
   ],
   "metadata": {
    "collapsed": false
   }
  },
  {
   "cell_type": "code",
   "execution_count": 22,
   "outputs": [],
   "source": [
    "#GRADCAM FUNCTIONS\n",
    "def apply_mask(image, mask):\n",
    "    heatmap = cv2.applyColorMap(np.uint8(255 * mask), cv2.COLORMAP_JET)\n",
    "    heatmap = np.float32(heatmap) / 255\n",
    "    cam = heatmap + np.float32(image)\n",
    "    cam = cam / np.max(cam)\n",
    "    return np.uint8(255 * cam)\n",
    "\n",
    "\n",
    "def plot_gradcam(image, res_cam):\n",
    "    image = deprocess_image(image)\n",
    "    name_dict = {\n",
    "        'Original Image': image,\n",
    "\n",
    "        'GradCAM (ResNet-18)': apply_mask(image, res_cam)\n",
    "\n",
    "    }\n",
    "\n",
    "    plt.style.use('seaborn-notebook')\n",
    "    fig = plt.figure(figsize=(10, 4))\n",
    "    for i, (name, img) in enumerate(name_dict.items()):\n",
    "        ax = fig.add_subplot(1, 2, i+1, xticks=[], yticks=[])\n",
    "        if i:\n",
    "            img = img[:, :, ::-1]\n",
    "        ax.imshow(img)\n",
    "        ax.set_xlabel(name, fontweight='bold')\n",
    "\n",
    "    fig.suptitle(\n",
    "        'Localization with Gradient based Class Activation Maps',\n",
    "        fontweight='bold', fontsize=16\n",
    "    )\n",
    "    plt.tight_layout()\n",
    "    fig.savefig('grad_cam.png')\n",
    "    plt.show()\n",
    "    plt.close()\n",
    "\n",
    "\n",
    "def show_images2(images, labels, preds,res_cam):\n",
    "    plt.figure(figsize=(20,10))\n",
    "    for i, image in enumerate(images):\n",
    "        plt.subplot(1, 6, i + 1, xticks=[], yticks=[])\n",
    "        #image = image.numpy().transpose((1, 2, 0))\n",
    "        image = image.cpu().numpy()\n",
    "        image=np.squeeze(np.transpose(image, (1, 2, 0)))\n",
    "        mean = np.array([0.485, 0.456, 0.406])\n",
    "        std = np.array([0.229, 0.224, 0.225])\n",
    "        image = image * std + mean\n",
    "        image = np.clip(image, 0., 1.)\n",
    "        image=apply_mask(image, res_cam[i][1])\n",
    "        image = cv2.cvtColor(image, cv2.COLOR_BGR2RGB)\n",
    "        plt.imshow(image)\n",
    "        col = 'green'\n",
    "        if preds[i] != labels[i]:\n",
    "            col = 'red'\n",
    "\n",
    "        plt.xlabel(f'{class_names[int(labels[i].numpy())]}')\n",
    "        plt.ylabel(f'{class_names[int(preds[i].numpy())]}', color=col)\n",
    "    plt.tight_layout()\n",
    "    plt.show()"
   ],
   "metadata": {
    "collapsed": false,
    "pycharm": {
     "name": "#%%\n"
    }
   }
  },
  {
   "cell_type": "code",
   "execution_count": 34,
   "outputs": [
    {
     "ename": "AttributeError",
     "evalue": "module 'networks' has no attribute 'get_resnet18'",
     "output_type": "error",
     "traceback": [
      "\u001B[1;31m---------------------------------------------------------------------------\u001B[0m",
      "\u001B[1;31mAttributeError\u001B[0m                            Traceback (most recent call last)",
      "\u001B[1;32m<ipython-input-34-f57168e1a7f1>\u001B[0m in \u001B[0;36m<module>\u001B[1;34m\u001B[0m\n\u001B[0;32m      6\u001B[0m \u001B[0moutputs\u001B[0m \u001B[1;33m=\u001B[0m \u001B[0mmodel\u001B[0m\u001B[1;33m(\u001B[0m\u001B[0mimages\u001B[0m\u001B[1;33m)\u001B[0m\u001B[1;33m\u001B[0m\u001B[1;33m\u001B[0m\u001B[0m\n\u001B[0;32m      7\u001B[0m \u001B[0m_\u001B[0m\u001B[1;33m,\u001B[0m \u001B[0mpreds\u001B[0m \u001B[1;33m=\u001B[0m \u001B[0mtorch\u001B[0m\u001B[1;33m.\u001B[0m\u001B[0mmax\u001B[0m\u001B[1;33m(\u001B[0m\u001B[0moutputs\u001B[0m\u001B[1;33m,\u001B[0m \u001B[1;36m1\u001B[0m\u001B[1;33m)\u001B[0m\u001B[1;33m\u001B[0m\u001B[1;33m\u001B[0m\u001B[0m\n\u001B[1;32m----> 8\u001B[1;33m \u001B[0mresnet18\u001B[0m \u001B[1;33m=\u001B[0m \u001B[0mnetworks\u001B[0m\u001B[1;33m.\u001B[0m\u001B[0mget_resnet18\u001B[0m\u001B[1;33m(\u001B[0m\u001B[0mout_features\u001B[0m\u001B[1;33m=\u001B[0m\u001B[1;36m4\u001B[0m\u001B[1;33m,\u001B[0m \u001B[0mpath\u001B[0m\u001B[1;33m=\u001B[0m\u001B[1;34m'covid_model.pt'\u001B[0m\u001B[1;33m)\u001B[0m\u001B[1;33m\u001B[0m\u001B[1;33m\u001B[0m\u001B[0m\n\u001B[0m\u001B[0;32m      9\u001B[0m \u001B[0mcam_obj\u001B[0m \u001B[1;33m=\u001B[0m \u001B[0mGradCAM\u001B[0m\u001B[1;33m(\u001B[0m\u001B[0mmodel\u001B[0m\u001B[1;33m=\u001B[0m\u001B[0mresnet18\u001B[0m\u001B[1;33m,\u001B[0m \u001B[0mtarget_layer\u001B[0m\u001B[1;33m=\u001B[0m\u001B[0mresnet18\u001B[0m\u001B[1;33m.\u001B[0m\u001B[0mlayer4\u001B[0m\u001B[1;33m[\u001B[0m\u001B[1;33m-\u001B[0m\u001B[1;36m1\u001B[0m\u001B[1;33m]\u001B[0m\u001B[1;33m)\u001B[0m\u001B[1;33m\u001B[0m\u001B[1;33m\u001B[0m\u001B[0m\n\u001B[0;32m     10\u001B[0m \u001B[1;32mfor\u001B[0m \u001B[0mx\u001B[0m\u001B[1;33m,\u001B[0m\u001B[0mimage\u001B[0m \u001B[1;32min\u001B[0m \u001B[0menumerate\u001B[0m \u001B[1;33m(\u001B[0m\u001B[0mimages\u001B[0m\u001B[1;33m)\u001B[0m\u001B[1;33m:\u001B[0m\u001B[1;33m\u001B[0m\u001B[1;33m\u001B[0m\u001B[0m\n",
      "\u001B[1;31mAttributeError\u001B[0m: module 'networks' has no attribute 'get_resnet18'"
     ]
    }
   ],
   "source": [
    "#GRADCAM PLOT\n",
    "\n",
    "res_cam=[]\n",
    "model.eval()\n",
    "images, labels = next(iter(dl_test))\n",
    "outputs = model(images)\n",
    "_, preds = torch.max(outputs, 1)\n",
    "resnet18 = networks.get_resnet18(out_features=4, path='covid_model.pt')\n",
    "cam_obj = GradCAM(model=resnet18, target_layer=resnet18.layer4[-1])\n",
    "for x,image in enumerate (images):\n",
    "    image=image.unsqueeze(dim=0).cpu()\n",
    "    res_cam.append(cam_obj(image, int(labels[x].numpy())))\n",
    "\n",
    "\n",
    "show_images2(images,labels,preds,res_cam)\n",
    "#plot_gradcam(images[0].unsqueeze(dim=0).cpu(),res_cam[0][1])"
   ],
   "metadata": {
    "collapsed": false,
    "pycharm": {
     "name": "#%%\n"
    }
   }
  }
 ],
 "metadata": {
  "kernelspec": {
   "display_name": "Python 3",
   "language": "python",
   "name": "python3"
  },
  "language_info": {
   "codemirror_mode": {
    "name": "ipython",
    "version": 2
   },
   "file_extension": ".py",
   "mimetype": "text/x-python",
   "name": "python",
   "nbconvert_exporter": "python",
   "pygments_lexer": "ipython2",
   "version": "2.7.6"
  }
 },
 "nbformat": 4,
 "nbformat_minor": 0
}